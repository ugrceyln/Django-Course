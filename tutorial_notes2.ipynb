{
 "cells": [
  {
   "cell_type": "markdown",
   "source": [
    "## Pythonprogramming.Net - Sentdex Youtube Channel\n",
    "\n",
    "### Tutorial 4 - Views and Templates - Django Tutorial\n",
    "https://www.youtube.com/watch?v=j9elKTmCEhY&list=PLQVvvaa0QuDe9nqlirjacLkBYdgc2inh3&index=4\n",
    "https://pythonprogramming.net/views-templates-django-tutorial/?completed=/admin-apps-django-tutorial/"
   ],
   "metadata": {
    "collapsed": false
   }
  },
  {
   "cell_type": "markdown",
   "source": [
    "To begin here, let's head into mysite/main/views.py and change our homepage function to:"
   ],
   "metadata": {
    "collapsed": false,
    "pycharm": {
     "name": "#%% md\n"
    }
   }
  },
  {
   "cell_type": "raw",
   "source": [
    "def homepage(request):\n",
    "    return render(request = request,\n",
    "                  template_name='main/home.html',\n",
    "                  context = {\"tutorials\":Tutorial.objects.all})\n",
    "                  "
   ],
   "metadata": {
    "collapsed": false
   }
  },
  {
   "cell_type": "markdown",
   "source": [
    "Here, we're using render, which will render an actual html file/template for us. It will also help us to pass Python objects to that template for us to work with. This will allow us to iterate over objects with loops, use if-statements...etc. To do this, we pass a dictionary where the key is the name of the variable which we will reference from within the template, and the value is the object it will represent. As you can see, we want to interact with our Tutorial model. To do this, we need to import it:\n",
    "\n",
    "The full script is now:\n",
    "\n",
    "mysite/main/views.py"
   ],
   "metadata": {
    "collapsed": false,
    "pycharm": {
     "name": "#%% md\n"
    }
   }
  },
  {
   "cell_type": "raw",
   "source": [
    "\n",
    "from django.shortcuts import render\n",
    "from django.http import HttpResponse\n",
    "from .models import Tutorial\n",
    "\n",
    "# Create your views here.\n",
    "def homepage(request):\n",
    "    return render(request = request,\n",
    "                  template_name='main/home.html',\n",
    "                  context = {\"tutorials\":Tutorial.objects.all})"
   ],
   "metadata": {
    "collapsed": false,
    "pycharm": {
     "name": "#%% raw\n"
    }
   }
  },
  {
   "cell_type": "markdown",
   "source": [
    "Django looks for templates in each of your app's directories by seeking out any directory called \"templates.\" It then builds a list of templates, and will grab the one that matches (or throw an error if none do). The problem is, sometimes, templates will have the same name, because you forgot the names of all of the templates in some other app that maybe you wrote a while ago, or it's someone else's that you've brought in. Anyway, the way we handle for this is to actually have a directory inside of our templates directory called the same as our app name. So, let's make a new directory called templates at mysite/main/templates, then, inside of that, add another directory called main, so you will have mysite/main/templates/main/. Head there, and make a file inside called home.html. Now we can add some HTML here, along with our object. Django has its own templating, which is *similar* to Jinja, but some things are indeed different. To begin, let's just make this page iterate over all of our tutorials so far and display them.\n",
    "\n",
    "The way we iterate in Django's templating is:\n",
    " \n",
    "{% for tut in tutorials %}\n",
    "Unlike Python, however, we also have to denote where the loop ends:\n",
    "\n",
    "{% endfor %}\n",
    "Generally, logic in templating is done with {% %} and then variables are encased in {{}}\n",
    "\n",
    "Now, let's interact with our tut var. Each of these tut objects is a Tutorial object so it has our attributes for content, title, and published date. Let's check that out:"
   ],
   "metadata": {
    "collapsed": false,
    "pycharm": {
     "name": "#%% md\n"
    }
   }
  },
  {
   "cell_type": "raw",
   "source": [
    "{% for tut in tutorials %}\n",
    "    <p>{{tut.tutorial_title}}</p>\n",
    "    <p>{{tut.tutorial_published}}</p>\n",
    "    <p>{{tut.tutorial_content}}</p>\n",
    "    <br><br>\n",
    "{% endfor %}\n"
   ],
   "metadata": {
    "collapsed": false,
    "pycharm": {
     "name": "#%% raw\n"
    }
   }
  },
  {
   "cell_type": "markdown",
   "source": [
    "It's not the most beautiful thing I've ever seen, but still, it worked! ...sort of. We can see our HTML is being displayed as plain text. This is because Django escapes it by default. It's not quite ideal if our users can do something like...insert javascript into forms, for example. That said, these tutorials are coming from our Admin page, so they should be trust worthy for display. When this is the case, we can use the |safe flag:"
   ],
   "metadata": {
    "collapsed": false,
    "pycharm": {
     "name": "#%% md\n"
    }
   }
  },
  {
   "cell_type": "raw",
   "source": [
    "\n",
    "{% for tut in tutorials %}\n",
    "    <p>{{tut.tutorial_title}}</p>\n",
    "    <p>{{tut.tutorial_published}}</p>\n",
    "    <p>{{tut.tutorial_content|safe}}</p>\n",
    "    <br><br>\n",
    "{% endfor %}"
   ],
   "metadata": {
    "collapsed": false,
    "pycharm": {
     "name": "#%% raw\n"
    }
   }
  },
  {
   "cell_type": "markdown",
   "source": [
    "For this, we need to bring in the required CSS and javascript. We need to either load CSS/js locally, or we can also use it when it's hosted somewhere else. Often, we want to have custom javascript or CSS, so we host it locally. In this case, we've got both the CSS and js we need local for the TinyMCE, as it came with the app we installed. So, how might we use it? Django by default is going to look for static files inside of a static directory, much like it looks for templates, which also means we use the same convention : APPNAME/static/APPNAME/\n",
    "TinyMCE has already done this, however, so we just need to reference it. Before we can reference static files, we need to load in the static files\n",
    "\n",
    "mysite/main/templates/main/home.html"
   ],
   "metadata": {
    "collapsed": false,
    "pycharm": {
     "name": "#%% md\n"
    }
   }
  },
  {
   "cell_type": "raw",
   "source": [
    "{% load static %}\n",
    "<!-- Prism CSS -->\n",
    "<link href=\"{% static \"tinymce/css/prism.css\" %}\" rel=\"stylesheet\">\n",
    "</head>\n",
    "<body>\n",
    "\n",
    "{% for tut in tutorials %}\n",
    "    <p>{{tut.tutorial_title}}</p>\n",
    "    <p>{{tut.tutorial_published}}</p>\n",
    "    <p>{{tut.tutorial_content|safe}}</p>\n",
    "    <br><br>\n",
    "{% endfor %}\n",
    "\n",
    "\n",
    "<!-- Prism JS -->\n",
    "<script src=\"{% static \"tinymce/js/prism.js\" %}\"></script>\n",
    "</body>"
   ],
   "metadata": {
    "collapsed": false,
    "pycharm": {
     "name": "#%% raw\n"
    }
   }
  },
  {
   "cell_type": "markdown",
   "source": [
    "We use the {% load static %} to load in the static file options. This doesn't actually load in the static files, really just the pathways to static files. Then, we can actually get the path to one with:\n",
    "\n",
    "{% static \"tinymce/css/prism.css\" %}\n",
    "\n",
    "With that, refresh the homepage and the syntax highlighting should be working:\n",
    "\n",
    "Great, but things are still pretty darn ugly. In the next tutorial, we'll spice things up slightly with a CSS framework.\n",
    "\n",
    "### Tutorial 5 - Styling w/ CSS - Django Web Development with Python p.5\n",
    "https://www.youtube.com/watch?v=a3d_nyccpM8&list=PLQVvvaa0QuDe9nqlirjacLkBYdgc2inh3&index=5\n",
    "https://pythonprogramming.net/css-django-tutorial/?completed=/views-templates-django-tutorial/\n",
    "and so on...\n"
   ],
   "metadata": {
    "collapsed": false,
    "pycharm": {
     "name": "#%% md\n"
    }
   }
  }
 ],
 "metadata": {
  "kernelspec": {
   "display_name": "Python 3",
   "language": "python",
   "name": "python3"
  },
  "language_info": {
   "codemirror_mode": {
    "name": "ipython",
    "version": 2
   },
   "file_extension": ".py",
   "mimetype": "text/x-python",
   "name": "python",
   "nbconvert_exporter": "python",
   "pygments_lexer": "ipython2",
   "version": "2.7.6"
  },
  "pycharm": {
   "stem_cell": {
    "cell_type": "raw",
    "source": [],
    "metadata": {
     "collapsed": false
    }
   }
  }
 },
 "nbformat": 4,
 "nbformat_minor": 0
}