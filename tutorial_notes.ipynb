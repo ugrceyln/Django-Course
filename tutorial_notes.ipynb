{
 "cells": [
  {
   "cell_type": "markdown",
   "source": [
    "## Pythonprogramming.Net - Sentdex Youtube Channel\n",
    "\n",
    "### Tutorial 1 - Django Web Development with Python Introduction\n",
    "https://www.youtube.com/watch?v=yD0_1DPmfKM&list=PLQVvvaa0QuDe9nqlirjacLkBYdgc2inh3&index=1\n",
    "https://pythonprogramming.net/django-web-development-python-tutorial/\n",
    "\n",
    "Alright, assuming you have Django installed, let's get started! With your installation of Django, you should now have a command line keyword: django-admin. You can use this to start a new project. Django considers all websites to be a collection of apps. Consider a website that has a forum, a shop, and a blog. Each of those three things would be considered its own \"app.\" A collection of these apps is your project. So, let's start a project. In your terminal/cmd.exe, do:\n",
    "`django-admin startproject mysite`\n",
    "The startproject command will create a new directory called whatever you called your project, In our case, that's called mysite.\n",
    "\n",
    "Okay, so with this in mind, let's add our first actual app to our project. To do this, we will use manage.py. This is a helper python script that will allow you to do things within your project. First, we'll use it to create another app. In your terminal/command line, navigate to the dir where this manage.py file is, then do:\n",
    "`python3 manage.py startapp main`\n",
    "\n",
    "You should see that a new directory has been created called main. So now the top levels of your project's structure are something like:\n",
    "\n",
    "main\n",
    "    -main (directory, your \"primary\" app)\n",
    "    -mysite (directory, this is your new app)\n",
    "    -manage.py (helper python script)\n",
    "Okay great. Let's go ahead and run our server now. We will do this with manage.py. You should probably open a separate terminal/command prompt to run the server within. We will keep the server running through much of the development.\n",
    "To run the server, do:\n",
    "`python manage.py runserver` \n",
    "\n",
    "You should see something like:"
   ],
   "metadata": {
    "collapsed": false
   }
  },
  {
   "cell_type": "raw",
   "source": [
    "python3 manage.py runserver\n",
    "Performing system checks...\n",
    "\n",
    "System check identified no issues (0 silenced).\n",
    "\n",
    "You have 15 unapplied migration(s). Your project may not work properly until you apply the migrations for app(s): admin, auth, contenttypes, sessions.\n",
    "Run 'python manage.py migrate' to apply them.\n",
    "January 10, 2019 - 18:50:09\n",
    "Django version 2.1.5, using settings 'mysite.settings'\n",
    "Starting development server at http://127.0.0.1:8000/\n",
    "Quit the server with CTRL-BREAK.\n"
   ],
   "metadata": {
    "collapsed": false,
    "pycharm": {
     "name": "#%% raw\n"
    }
   }
  },
  {
   "cell_type": "markdown",
   "source": [
    "Django uses what's called a Model View Controller paradigm. Every page you visit on a Django application is likely using these three things to serve you data.\n",
    "\n",
    "Model: Your database abstraction, which will contain objects that are mapped to your database. For example, we'll have a \"Tutorial\" model/object, a \"User model/object,\" a \"Tutorial Series\" model/object...etc. All you need to do is define these models and Django handles the rest for you. You can even change your models down the line and, through migrations, Django can help you get it done within seconds, rather than the likely hour...or more... it would take you to do this yourself.\n",
    "View: How you will represent the data. This is where you will actually render things to a user.\n",
    "Controller: How you map URLs to views.\n",
    "While we call it an MVC (model, view, controller), you can imagine it moreso working in reverse. A user will visit a URL, your controller (urls.py) will point to a specific view (views.py). That view can then (it doesn't actually HAVE to) interface with your models.\n",
    "\n",
    "We can simplify this slightly, however, and just have the controller point to your view, and the view can just return a string, just so we can get a feel for how things connect."
   ],
   "metadata": {
    "collapsed": false,
    "pycharm": {
     "name": "#%% md\n"
    }
   }
  },
  {
   "cell_type": "markdown",
   "source": [
    "o, what we need to do is point this URL to a view. That said, Django sees websites as a collection of apps. So actually the urls.py file inside your \"primary\" app is usually just going to point to your apps. How do we point to an app? We just point to that app's urls.py file! So let's just add that:"
   ],
   "metadata": {
    "collapsed": false
   }
  },
  {
   "cell_type": "raw",
   "source": [
    "\n",
    "from django.contrib import admin\n",
    "from django.urls import path, include\n",
    "\n",
    "urlpatterns = [\n",
    "    path(\"\", include('main.urls')),\n",
    "    path('admin/', admin.site.urls),\n",
    "]\n"
   ],
   "metadata": {
    "collapsed": false,
    "pycharm": {
     "name": "#%% raw\n"
    }
   }
  },
  {
   "cell_type": "markdown",
   "source": [
    "Okay, so now django knows that, when the path is basically empty (the homepage), to look inside of the main app at its urls.py file to see if that file (the controller) points to a view, which would be some function inside of that app's views.py.\n",
    "\n",
    "We have yet to modify our main app's urls.py file, and we also have not made any view. Let's do both! Let's navigate into our mysite/main app. We can see that there are already various things here...but there's no urls.py! Let's add that now:\n",
    "\n",
    "mysite/main/urls.py"
   ],
   "metadata": {
    "collapsed": false,
    "pycharm": {
     "name": "#%% md\n"
    }
   }
  },
  {
   "cell_type": "raw",
   "source": [
    "from django.urls import path\n",
    "from . import views\n",
    "\n",
    "\n",
    "app_name = 'main'  # here for namespacing of urls.\n",
    "\n",
    "urlpatterns = [\n",
    "    path(\"\", views.homepage, name=\"homepage\"),\n",
    "]"
   ],
   "metadata": {
    "collapsed": false,
    "pycharm": {
     "name": "#%% raw\n"
    }
   }
  },
  {
   "cell_type": "markdown",
   "source": [
    "### Tutorial 2 - Models - Django Web Development with Python p.2\n",
    "https://www.youtube.com/watch?v=aXxIjeGR6po&list=PLQVvvaa0QuDe9nqlirjacLkBYdgc2inh3&index=2 \n",
    "https://pythonprogramming.net/models-django-tutorial/?completed=/django-web-development-python-tutorial/\n",
    "\n",
    "with Django, you can easily add more fields to your database with very little struggle, so it's not really as important as it usually is to think ahead. So, let's build the Tutorial model. Each model will be a unique class within your app's models.py file.\n",
    "\n",
    "Let's open up models.py from main:\n",
    "\n",
    "mysite/main/models.py"
   ],
   "metadata": {
    "collapsed": false,
    "pycharm": {
     "name": "#%% md\n"
    }
   }
  },
  {
   "cell_type": "raw",
   "source": [
    "\n",
    "from django.db import models\n",
    "\n",
    "\n",
    "class Tutorial(models.Model):\n",
    "    tutorial_title = models.CharField(max_length=200)\n",
    "    tutorial_content = models.TextField()\n",
    "    tutorial_published = models.DateTimeField('date published')\n",
    "\n",
    "    def __str__(self):\n",
    "        return self.tutorial_title\n",
    "        "
   ],
   "metadata": {
    "collapsed": false,
    "pycharm": {
     "name": "#%% raw\n"
    }
   }
  },
  {
   "cell_type": "markdown",
   "source": [
    "All models will inherit from models.Model. Then, we just define our fields with ...well...fields. Note that different fields are defined in different ways. We expect our title to be fairly short, so we define this as a CharField. These fields correspond to the format of our data in the actual database. You might wonder, what's the difference between a CharField, which we use for the title, and a TextField, which we use for the content itself. In general, we use the CharField for something that does have a limit to the size, and a TextField when we don't have a limit. For all of the fields, \n",
    "see <a href='https://docs.djangoproject.com/en/2.1/ref/models/fields/'>the django model fields documentation</a>.\n",
    "\n",
    "Finally, we override the the __str__ special method to make it a bit more readable when it's being displayed in string form, which we will see soon."
   ],
   "metadata": {
    "collapsed": false,
    "pycharm": {
     "name": "#%% md\n"
    }
   }
  },
  {
   "cell_type": "markdown",
   "source": [
    "Okay, any time there has been a change in your models (either a new model, or you modified an existing model), you need to do a migration. There are two steps involved here. First, we run a makemigrations, then we run an actual migrate. We use the manage.py script for this, so let's get it done:\n",
    "\n",
    "python3 manage.py makemigrations No changes detected\n",
    "What?\n",
    "\n",
    "So our migrations will only apply to apps that we've told Django we want \"installed.\" This probably wont be the last time you add an app, build some models, attempt to migrate, and get this message. Hopefully, you wont be confused when it eventually happens to you on your own! So let's go into mysite/mysite/settings.py and add 'main.apps.MainConfig', to INSTALLED_APPS so it should look like:\n",
    "\n",
    "mysite/mysite/settings.py"
   ],
   "metadata": {
    "collapsed": false,
    "pycharm": {
     "name": "#%% md\n"
    }
   }
  },
  {
   "cell_type": "raw",
   "source": [
    "INSTALLED_APPS = [\n",
    "    'main.apps.MainConfig',\n",
    "    'django.contrib.admin',\n",
    "    'django.contrib.auth',\n",
    "    'django.contrib.contenttypes',\n",
    "    'django.contrib.sessions',\n",
    "    'django.contrib.messages',\n",
    "    'django.contrib.staticfiles',\n",
    "]"
   ],
   "metadata": {
    "collapsed": false,
    "pycharm": {
     "name": "#%% raw\n"
    }
   }
  },
  {
   "cell_type": "markdown",
   "source": [
    "Does ...that exist? Let's check! Go open mysite/main/apps.py:"
   ],
   "metadata": {
    "collapsed": false,
    "pycharm": {
     "name": "#%% md\n"
    }
   }
  },
  {
   "cell_type": "raw",
   "source": [
    "\n",
    "from django.apps import AppConfig\n",
    "\n",
    "\n",
    "class MainConfig(AppConfig):\n",
    "    name = 'main'\n",
    "    "
   ],
   "metadata": {
    "collapsed": false,
    "pycharm": {
     "name": "#%% raw\n"
    }
   }
  },
  {
   "cell_type": "markdown",
   "source": [
    "Yep!\n",
    "\n",
    "Okay, let's try to make our migrations again!\n",
    "\n",
    "``python manage.py makemigrations``\n",
    "\n",
    "Looks good. What this step actually does is it just builds the code required for the migration, it doesn't actually apply them. If you're curious, you can see all of your migrations by going to the migrations directory of an app. For example, head to mysite/main/migrations. In there, you should see 0001_initial.py, open it up:\n",
    "\n",
    "0001_initial.py\n",
    "    "
   ],
   "metadata": {
    "collapsed": false,
    "pycharm": {
     "name": "#%% md\n"
    }
   }
  },
  {
   "cell_type": "raw",
   "source": [
    "\n",
    "from django.db import migrations, models\n",
    "\n",
    "\n",
    "class Migration(migrations.Migration):\n",
    "\n",
    "    initial = True\n",
    "\n",
    "    dependencies = [\n",
    "    ]\n",
    "\n",
    "    operations = [\n",
    "        migrations.CreateModel(\n",
    "            name='Tutorial',\n",
    "            fields=[\n",
    "                ('id', models.AutoField(auto_created=True, primary_key=True, serialize=False, verbose_name='ID')),\n",
    "                ('tutorial_title', models.CharField(max_length=200)),\n",
    "                ('tutorial_content', models.TextField()),\n",
    "                ('tutorial_published', models.DateTimeField(verbose_name='date published')),\n",
    "            ],\n",
    "        ),\n",
    "    ]"
   ],
   "metadata": {
    "collapsed": false,
    "pycharm": {
     "name": "#%% raw\n"
    }
   }
  },
  {
   "cell_type": "markdown",
   "source": [
    "If you know SQL, then you know that's not SQL! If you want to see the exact SQL that will be run, you can also do:\n",
    "\n",
    "``python3 manage.py sqlmigrate main 0001``"
   ],
   "metadata": {
    "collapsed": false,
    "pycharm": {
     "name": "#%% md\n"
    }
   }
  },
  {
   "cell_type": "raw",
   "source": [
    "BEGIN;\n",
    "--\n",
    "-- Create model Tutorial\n",
    "--\n",
    "CREATE TABLE \"main_tutorial\" (\"id\" integer NOT NULL PRIMARY KEY AUTOINCREMENT, \"tutorial_title\" varchar(200) NOT NULL, \"tutorial_content\" text NOT NULL, \"tutorial_published\" datetime NOT NULL);\n",
    "COMMIT;"
   ],
   "metadata": {
    "collapsed": false,
    "pycharm": {
     "name": "#%% raw\n"
    }
   }
  },
  {
   "cell_type": "markdown",
   "source": [
    ".. but you probably wont be doing that. In general, you will just simple make or modify your models. Run a makemigrations and then run a migrate and you'll be done.\n",
    "\n",
    "Cool, okay let's actually migrate then!\n",
    "\n",
    "``python3 manage.py migrate``"
   ],
   "metadata": {
    "collapsed": false,
    "pycharm": {
     "name": "#%% md\n"
    }
   }
  },
  {
   "cell_type": "markdown",
   "source": [
    "Okay, so what? We can't really see what's so special about any of this. Let's add a tutorial. One quick way for us to do this at the moment is through the shell. We can access the shell through, you might be able to guess...manage.py\n",
    "\n",
    "``python3 manage.py shell``\n",
    "\n",
    "This gives us a quick way to interact with our website without the need to write up some view and controller just to test something. My main use for this is to do something like test a query like a filter or a get. Once we have many related models, writing the code to properly do what we want doesn't necesaarily work the first time. Rather than printing out, logging, or displaying the data in a view, we can quickly interact via the shell. Let's see a quick example. Let's import our Tutorial model."
   ],
   "metadata": {
    "collapsed": false,
    "pycharm": {
     "name": "#%% md\n"
    }
   }
  },
  {
   "cell_type": "raw",
   "source": [
    ">>> from main.models import Tutorial\n",
    ">>> Tutorial.objects.all()\n",
    "<QuerySet []>\n",
    "\n",
    ">>> from django.utils import timezone\n",
    ">>> new_tutorial = Tutorial(tutorial_title=\"To be\", tutorial_content=\"or not to be.\n",
    ">>> new_tutorial.save()\n",
    "\n",
    ">>> Tutorial.objects.all()\n",
    "\n",
    ">>> for t in Tutorial.objects.all():\n",
    "...     print(t.tutorial_title)\n",
    "...\n",
    "To be"
   ],
   "metadata": {
    "collapsed": false,
    "pycharm": {
     "name": "#%% raw\n"
    }
   }
  },
  {
   "cell_type": "markdown",
   "source": [
    "### Tutorial 3 - Admin and Apps - Django Web Development with Python p.3\n",
    "https://www.youtube.com/watch?v=BJfyATa9nX0&list=PLQVvvaa0QuDe9nqlirjacLkBYdgc2inh3&index=3\n",
    "https://pythonprogramming.net/admin-apps-django-tutorial/?completed=/models-django-tutorial/\n"
   ],
   "metadata": {
    "collapsed": false,
    "pycharm": {
     "name": "#%% md\n"
    }
   }
  },
  {
   "cell_type": "markdown",
   "source": [
    "In order to do this, we need to first create an administrator user. To do this:\n",
    "\n",
    "python3 manage.py createsuperuser\n",
    "Username (leave blank to use 'harrisonkinsley'): sentdex\n",
    "Email address: harrison@pythonprogramming.net\n",
    "Password:\n",
    "Password (again):\n",
    "Superuser created successfully.\n",
    "The email can just be left blank. The superuser is like other users, and Django user objects just happen to come with email fields. That said, django has built-in some reporting features that will email your superusers when exceptions are hit, which can be useful. More information on that: <a href='https://docs.djangoproject.com/en/2.0/howto/error-reporting/#email-reports'>Django email reports</a>\n",
    "\n",
    "Here is where you can interact with your models via an actual user interface. In here, you can see, modify, add, or remove entries for your models that are registered here. As you can see, it looks like the only models available to us are Groups and Users, however. That said, go ahead and click on users, then on the username you just created. As you can see, there are actually quite a few fields here. That's because this is Django's User model. Still, all these fields here, available to us to edit things, is pretty darn cool. We could even add new users right here in the admin. We're probably not going to be adding users ourselves, however.\n",
    "\n",
    "To do this, head to mysite/main/admin.py and add the following import:"
   ],
   "metadata": {
    "collapsed": false,
    "pycharm": {
     "name": "#%% md\n"
    }
   }
  },
  {
   "cell_type": "raw",
   "source": [
    "\n",
    "from django.contrib import admin\n",
    "from .models import Tutorial\n",
    "\n",
    "\n",
    "admin.site.register(Tutorial)"
   ],
   "metadata": {
    "collapsed": false,
    "pycharm": {
     "name": "#%% raw\n"
    }
   }
  },
  {
   "cell_type": "markdown",
   "source": [
    "If you've ever needed to write an admin control panel like this, you're likely very giddy right now. This is a pretty awesome thing that you get from Django right out of the gate.\n",
    "\n",
    "But wait, there's more! We can organize how this model is presented to us. It's not always the case that the order of the columns in the table is what we prefer. We also might not care about all of the columns. To modify how this is presented to us, let's go back to edit the admin.py file\n",
    "\n",
    "mysite/main/admin.py\n"
   ],
   "metadata": {
    "collapsed": false,
    "pycharm": {
     "name": "#%% md\n"
    }
   }
  },
  {
   "cell_type": "raw",
   "source": [
    "\n",
    "from django.contrib import admin\n",
    "from .models import Tutorial\n",
    "\n",
    "\n",
    "class TutorialAdmin(admin.ModelAdmin):\n",
    "    fields = [\"tutorial_title\",\n",
    "              \"tutorial_published\",\n",
    "              \"tutorial_content\"]\n",
    "\n",
    "admin.site.register(Tutorial,TutorialAdmin)\n"
   ],
   "metadata": {
    "collapsed": false,
    "pycharm": {
     "name": "#%% raw\n"
    }
   }
  },
  {
   "cell_type": "markdown",
   "source": [
    "Now, we have the same information here, but the order it is presented to us has changed. We could also comment out the tutorial_published part, like:"
   ],
   "metadata": {
    "collapsed": false,
    "pycharm": {
     "name": "#%% md\n"
    }
   }
  },
  {
   "cell_type": "raw",
   "source": [
    "from django.contrib import admin\n",
    "from .models import Tutorial\n",
    "\n",
    "\n",
    "class TutorialAdmin(admin.ModelAdmin):\n",
    "    fields = [\"tutorial_title\",\n",
    "              #\"tutorial_published\",\n",
    "              \"tutorial_content\"]\n",
    "\n",
    "admin.site.register(Tutorial,TutorialAdmin)\n"
   ],
   "metadata": {
    "collapsed": false,
    "pycharm": {
     "name": "#%% raw\n"
    }
   }
  },
  {
   "cell_type": "markdown",
   "source": [
    "Another option we have is to modify how things are grouped together for organization purposes. In our case right now, we really don't have too many columns where things are confusing just yet, but eventually you might. So you can organize things for example by doing:\n"
   ],
   "metadata": {
    "collapsed": false,
    "pycharm": {
     "name": "#%% md\n"
    }
   }
  },
  {
   "cell_type": "raw",
   "source": [
    "\n",
    "from django.contrib import admin\n",
    "from .models import Tutorial\n",
    "\n",
    "\n",
    "class TutorialAdmin(admin.ModelAdmin):\n",
    "\n",
    "    fieldsets = [\n",
    "        (\"Title/date\", {'fields': [\"tutorial_title\", \"tutorial_published\"]}),\n",
    "        (\"Content\", {\"fields\": [\"tutorial_content\"]})\n",
    "    ]\n",
    "\n",
    "admin.site.register(Tutorial,TutorialAdmin)\n"
   ],
   "metadata": {
    "collapsed": false
   }
  },
  {
   "cell_type": "markdown",
   "source": [
    "One final thing I'd like to do is have the tutorial_published default to now. There may be times when I want to change the published date from now, but, most often, the published time will be whatever the current time is.\n",
    "\n",
    "mysite/main/admin.py"
   ],
   "metadata": {
    "collapsed": false,
    "pycharm": {
     "name": "#%% md\n"
    }
   }
  },
  {
   "cell_type": "raw",
   "source": [
    "tutorial_published = models.DateTimeField('date published', default=datetime.now)\n"
   ],
   "metadata": {
    "collapsed": false,
    "pycharm": {
     "name": "#%% raw\n"
    }
   }
  },
  {
   "cell_type": "markdown",
   "source": [
    "Full script:"
   ],
   "metadata": {
    "collapsed": false,
    "pycharm": {
     "name": "#%% md\n"
    }
   }
  },
  {
   "cell_type": "code",
   "source": [
    "from django.db import models\n",
    "from datetime import datetime\n",
    "\n",
    "class Tutorial(models.Model):\n",
    "    tutorial_title = models.CharField(max_length=200)\n",
    "    tutorial_content = models.TextField()\n",
    "    tutorial_published = models.DateTimeField('date published', default=datetime.now)\n",
    "\n",
    "    def __str__(self):\n",
    "        return self.tutorial_title"
   ],
   "metadata": {
    "collapsed": false,
    "pycharm": {
     "name": "#%% raw \n"
    }
   },
   "execution_count": null,
   "outputs": []
  },
  {
   "cell_type": "markdown",
   "source": [
    "One thing my tutorials desperately could use is an editor, not really just some text field. I can write HTML in here, sure, but that would be rather tedious, especially if I made some typo and then I wouldn't see it until I push to publish it! Instead, I would like a WYSIWYG (what you see is what you get) editor. Luckily many of these exist within the Django ecosystem. The one I will make use of is a branch off of TinyMCE. To get it, we just need to do:\n",
    "\n",
    "python3 -m pip install django-tinymce4-lite.\n",
    "\n",
    "Now this is an app, so we need to add it to our INSTALLED_APPS in the mysite/mysite/settings.py file:"
   ],
   "metadata": {
    "collapsed": false,
    "pycharm": {
     "name": "#%% md\n"
    }
   }
  },
  {
   "cell_type": "raw",
   "source": [
    "INSTALLED_APPS = (\n",
    "    ...\n",
    "    'tinymce',\n",
    "    ...\n",
    ")"
   ],
   "metadata": {
    "collapsed": false,
    "pycharm": {
     "name": "#%% raw\n"
    }
   }
  },
  {
   "cell_type": "markdown",
   "source": [
    "Then, somewhere in the settings.py also add:"
   ],
   "metadata": {
    "collapsed": false,
    "pycharm": {
     "name": "#%% md\n"
    }
   }
  },
  {
   "cell_type": "raw",
   "source": [
    "\n",
    "TINYMCE_DEFAULT_CONFIG = {\n",
    "    'height': 360,\n",
    "    'width': 1120,\n",
    "    'cleanup_on_startup': True,\n",
    "    'custom_undo_redo_levels': 20,\n",
    "    'selector': 'textarea',\n",
    "    'theme': 'modern',\n",
    "    'plugins': '''\n",
    "            textcolor save link image media preview codesample contextmenu\n",
    "            table code lists fullscreen  insertdatetime  nonbreaking\n",
    "            contextmenu directionality searchreplace wordcount visualblocks\n",
    "            visualchars code fullscreen autolink lists  charmap print  hr\n",
    "            anchor pagebreak\n",
    "            ''',\n",
    "    'toolbar1': '''\n",
    "            fullscreen preview bold italic underline | fontselect,\n",
    "            fontsizeselect  | forecolor backcolor | alignleft alignright |\n",
    "            aligncenter alignjustify | indent outdent | bullist numlist table |\n",
    "            | link image media | codesample |\n",
    "            ''',\n",
    "    'toolbar2': '''\n",
    "            visualblocks visualchars |\n",
    "            charmap hr pagebreak nonbreaking anchor |  code |\n",
    "            ''',\n",
    "    'contextmenu': 'formats | link image',\n",
    "    'menubar': True,\n",
    "    'statusbar': True,\n",
    "    }\n",
    "    "
   ],
   "metadata": {
    "collapsed": false,
    "pycharm": {
     "name": "#%% raw\n"
    }
   }
  },
  {
   "cell_type": "markdown",
   "source": [
    "These are some configuration settings of what we might want to include. There are others you can add. See here for further configuration: <a href='http://romanvm.github.io/django-tinymce4-lite/configuration.html'>TinyMCE4-lite configurations </a>\n",
    "\n",
    "Next, we need to add a pointer to the app so it can be referenced when we call it. To do this, let's now edit mysite/mysite/urls.py"
   ],
   "metadata": {
    "collapsed": false,
    "pycharm": {
     "name": "#%% md\n"
    }
   }
  },
  {
   "cell_type": "raw",
   "source": [
    "\n",
    "urlpatterns = patterns('',\n",
    "    ...\n",
    "    path('tinymce/', include('tinymce.urls')),\n",
    "    ...\n",
    ")\n"
   ],
   "metadata": {
    "collapsed": false,
    "pycharm": {
     "name": "#%% raw\n"
    }
   }
  },
  {
   "cell_type": "markdown",
   "source": [
    "Finally, we just need to make use of TinyMCE where we want it. To do this, we need to override a form to use our TinyMCE widget. In this case, it's not just any form, however, we want to use it within the admin page. To do this, go back into our mysite/main/admin.py file, and add the follwowing imports:"
   ],
   "metadata": {
    "collapsed": false,
    "pycharm": {
     "name": "#%% md\n"
    }
   }
  },
  {
   "cell_type": "raw",
   "source": [
    "\n",
    "from tinymce.widgets import TinyMCE\n",
    "from django.db import models\n"
   ],
   "metadata": {
    "collapsed": false,
    "pycharm": {
     "name": "#%% raw\n"
    }
   }
  },
  {
   "cell_type": "markdown",
   "source": [
    "The first is for our widget, the second is so we can override one of our models fields (the textfield). To do this, we'll add:"
   ],
   "metadata": {
    "collapsed": false
   }
  },
  {
   "cell_type": "raw",
   "source": [
    "formfield_overrides = {\n",
    "        models.TextField: {'widget': TinyMCE()},\n",
    "        }\n",
    "        "
   ],
   "metadata": {
    "collapsed": false,
    "pycharm": {
     "name": "#%% raw\n"
    }
   }
  },
  {
   "cell_type": "markdown",
   "source": [
    "So the full script becomes:\n",
    "\n",
    "mysite/main/admin.py"
   ],
   "metadata": {
    "collapsed": false,
    "pycharm": {
     "name": "#%% md\n"
    }
   }
  },
  {
   "cell_type": "raw",
   "source": [
    "\n",
    "\n",
    "from django.contrib import admin\n",
    "from .models import Tutorial\n",
    "\n",
    "\n",
    "class TutorialAdmin(admin.ModelAdmin):\n",
    "\n",
    "    fieldsets = [\n",
    "        (\"Title/date\", {'fields': [\"tutorial_title\", \"tutorial_published\"]}),\n",
    "        (\"Content\", {\"fields\": [\"tutorial_content\"]})\n",
    "    ]\n",
    "\n",
    "    formfield_overrides = {\n",
    "        models.TextField: {'widget': TinyMCE()},\n",
    "        }\n",
    "\n",
    "\n",
    "admin.site.register(Tutorial,TutorialAdmin)\n"
   ],
   "metadata": {
    "collapsed": false,
    "pycharm": {
     "name": "#%% raw\n"
    }
   }
  },
  {
   "cell_type": "markdown",
   "source": [
    "Now, refresh http://127.0.0.1:8000/admin/main/tutorial/add/\n",
    "\n",
    "Awesome! So this editor allows us to more easily write HTML, insert code snippets...etc. We can also view the raw HTML and insert our own custom HTML as well if something we want doesn't exist in the editor.\n",
    "\n",
    "While we're here, let's go ahead and add a quick tutorial with a code snippet just for kicks. Put whatever you want, give it a title, and save."
   ],
   "metadata": {
    "collapsed": false,
    "pycharm": {
     "name": "#%% md\n"
    }
   }
  }
 ],
 "metadata": {
  "kernelspec": {
   "display_name": "Python 3",
   "language": "python",
   "name": "python3"
  },
  "language_info": {
   "codemirror_mode": {
    "name": "ipython",
    "version": 2
   },
   "file_extension": ".py",
   "mimetype": "text/x-python",
   "name": "python",
   "nbconvert_exporter": "python",
   "pygments_lexer": "ipython2",
   "version": "2.7.6"
  },
  "pycharm": {
   "stem_cell": {
    "cell_type": "raw",
    "source": [],
    "metadata": {
     "collapsed": false
    }
   }
  }
 },
 "nbformat": 4,
 "nbformat_minor": 0
}